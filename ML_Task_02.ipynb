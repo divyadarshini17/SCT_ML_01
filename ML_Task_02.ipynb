{
  "nbformat": 4,
  "nbformat_minor": 0,
  "metadata": {
    "colab": {
      "provenance": [],
      "authorship_tag": "ABX9TyPKnH93fWXKE59OIbdfgj/f",
      "include_colab_link": true
    },
    "kernelspec": {
      "name": "python3",
      "display_name": "Python 3"
    },
    "language_info": {
      "name": "python"
    }
  },
  "cells": [
    {
      "cell_type": "markdown",
      "metadata": {
        "id": "view-in-github",
        "colab_type": "text"
      },
      "source": [
        "<a href=\"https://colab.research.google.com/github/divyadarshini17/SCT_ML_01/blob/main/ML_Task_02.ipynb\" target=\"_parent\"><img src=\"https://colab.research.google.com/assets/colab-badge.svg\" alt=\"Open In Colab\"/></a>"
      ]
    },
    {
      "cell_type": "code",
      "source": [
        "import pandas as pd\n",
        "import numpy as np\n",
        "import matplotlib.pyplot as plt\n",
        "from sklearn.cluster import KMeans\n",
        "from sklearn.preprocessing import StandardScaler"
      ],
      "metadata": {
        "id": "g8ojylIJdGWn"
      },
      "execution_count": null,
      "outputs": []
    },
    {
      "cell_type": "code",
      "source": [
        "data=pd.read_csv(\"Mall_Customers.csv\")\n",
        "print(data.head())"
      ],
      "metadata": {
        "colab": {
          "base_uri": "https://localhost:8080/"
        },
        "id": "gOTixfsOd-kq",
        "outputId": "5c93b9cf-c4d9-4e1d-d15c-a915ada700a8"
      },
      "execution_count": null,
      "outputs": [
        {
          "output_type": "stream",
          "name": "stdout",
          "text": [
            "   CustomerID  Gender  Age  Annual Income (k$)  Spending Score (1-100)\n",
            "0           1    Male   19                  15                      39\n",
            "1           2    Male   21                  15                      81\n",
            "2           3  Female   20                  16                       6\n",
            "3           4  Female   23                  16                      77\n",
            "4           5  Female   31                  17                      40\n"
          ]
        }
      ]
    },
    {
      "cell_type": "code",
      "source": [
        "# Step 1: Check columns\n",
        "print(data.columns)\n",
        "\n",
        "# Step 2: Verify column names\n",
        "required_columns = ['TotalSpend', 'NumberOfTransactions', 'AverageTransactionValue']\n",
        "missing_columns = [col for col in required_columns if col not in data.columns]\n",
        "if missing_columns:\n",
        "    print(f\"Missing columns: {missing_columns}\")\n",
        "else:\n",
        "    features = data[required_columns]"
      ],
      "metadata": {
        "colab": {
          "base_uri": "https://localhost:8080/"
        },
        "id": "qYWavFjkeNob",
        "outputId": "a2a3b688-6980-48a8-d294-b4606a90997c"
      },
      "execution_count": null,
      "outputs": [
        {
          "output_type": "stream",
          "name": "stdout",
          "text": [
            "Index(['CustomerID', 'Gender', 'Age', 'Annual Income (k$)',\n",
            "       'Spending Score (1-100)'],\n",
            "      dtype='object')\n",
            "Missing columns: ['TotalSpend', 'NumberOfTransactions', 'AverageTransactionValue']\n"
          ]
        }
      ]
    },
    {
      "cell_type": "code",
      "source": [
        "\n",
        "# Import necessary libraries\n",
        "import numpy as np\n",
        "from sklearn.preprocessing import StandardScaler\n",
        "\n",
        "# Create a sample dataset\n",
        "data = np.array([[0.0, 1.0, 2.0],\n",
        "                 [3.0, 4.0, 5.0],\n",
        "                 [6.0, 7.0, 8.0]])\n",
        "\n",
        "# Print the original data\n",
        "print(\"Original data:\")\n",
        "print(data)\n",
        "\n",
        "# Initialize the StandardScaler\n",
        "scaler = StandardScaler()\n",
        "\n",
        "# Fit the scaler to the data and transform the data\n",
        "scaled_features = scaler.fit_transform(data)\n",
        "\n",
        "# Print the scaled features\n",
        "print(\"\\nScaled features:\")\n",
        "print(scaled_features)"
      ],
      "metadata": {
        "colab": {
          "base_uri": "https://localhost:8080/"
        },
        "id": "_zUZ_1nnec8v",
        "outputId": "00fbc5d4-940e-4c41-8fd2-d7bc215d1f54"
      },
      "execution_count": null,
      "outputs": [
        {
          "output_type": "stream",
          "name": "stdout",
          "text": [
            "Original data:\n",
            "[[0. 1. 2.]\n",
            " [3. 4. 5.]\n",
            " [6. 7. 8.]]\n",
            "\n",
            "Scaled features:\n",
            "[[-1.22474487 -1.22474487 -1.22474487]\n",
            " [ 0.          0.          0.        ]\n",
            " [ 1.22474487  1.22474487  1.22474487]]\n"
          ]
        }
      ]
    },
    {
      "cell_type": "code",
      "source": [
        "# Import necessary libraries\n",
        "import numpy as np\n",
        "from sklearn.cluster import KMeans\n",
        "\n",
        "# Create sample data\n",
        "data = np.array([[1.0, 2.0],\n",
        "                 [1.2, 1.5],\n",
        "                 [6.0, 8.0],\n",
        "                 [9.0, 4.0],\n",
        "                 [1.0, 1.6],\n",
        "                 [9.0, 10.0]])\n",
        "\n",
        "# Initialize the K-means model\n",
        "kmeans = KMeans(n_clusters=2, random_state=0)\n",
        "\n",
        "# Fit the model to the data\n",
        "kmeans.fit(data)\n",
        "\n",
        "# Retrieve and print the inertia\n",
        "inertia = kmeans.inertia_\n",
        "print(\"Inertia:\", inertia)"
      ],
      "metadata": {
        "colab": {
          "base_uri": "https://localhost:8080/"
        },
        "id": "-fg7huKiecIF",
        "outputId": "d4bd6708-5bc3-46e9-b690-e663d0c42727"
      },
      "execution_count": null,
      "outputs": [
        {
          "output_type": "stream",
          "name": "stdout",
          "text": [
            "Inertia: 24.83333333333333\n"
          ]
        }
      ]
    },
    {
      "cell_type": "code",
      "source": [
        "import numpy as np\n",
        "import matplotlib.pyplot as plt\n",
        "from sklearn.cluster import KMeans\n",
        "\n",
        "# Create sample data\n",
        "data = np.array([[1.0, 2.0],\n",
        "                 [1.2, 1.5],\n",
        "                 [6.0, 8.0],\n",
        "                 [9.0, 4.0],\n",
        "                 [1.0, 1.6],\n",
        "                 [9.0, 10.0]])\n",
        "\n",
        "# Range of cluster numbers to evaluate\n",
        "k_values = range(1, len(data) + 1)  # Limit clusters to the number of samples\n",
        "\n",
        "# List to store inertia values\n",
        "inertia_values = []\n",
        "\n",
        "# Calculate inertia for each number of clusters\n",
        "for k in k_values:\n",
        "    kmeans = KMeans(n_clusters=k, random_state=0)\n",
        "    kmeans.fit(data)\n",
        "    inertia_values.append(kmeans.inertia_)\n",
        "# Plot the Elbow Method\n",
        "plt.figure(figsize=(8, 4))\n",
        "plt.plot(k_values, inertia_values, marker='o', linestyle='-')\n",
        "plt.title('Elbow Method for Optimal K')\n",
        "plt.xlabel('Number of Clusters')\n",
        "plt.ylabel('Inertia')\n",
        "plt.grid()\n",
        "plt.show()\n"
      ],
      "metadata": {
        "colab": {
          "base_uri": "https://localhost:8080/",
          "height": 410
        },
        "id": "AE22dGL_f20h",
        "outputId": "a2b45670-2377-43bc-bc41-b7c42aa08598"
      },
      "execution_count": null,
      "outputs": [
        {
          "output_type": "display_data",
          "data": {
            "text/plain": [
              "<Figure size 800x400 with 1 Axes>"
            ],
            "image/png": "[encoded data removed]"
          },
          "metadata": {}
        }
      ]
    },
    {
      "cell_type": "code",
      "source": [
        "print(data)\n"
      ],
      "metadata": {
        "colab": {
          "base_uri": "https://localhost:8080/"
        },
        "id": "tSC0LtCVgcPs",
        "outputId": "5a5d655c-33c7-4e12-c695-f5ba843f9907"
      },
      "execution_count": null,
      "outputs": [
        {
          "output_type": "stream",
          "name": "stdout",
          "text": [
            "[[ 1.   2. ]\n",
            " [ 1.2  1.5]\n",
            " [ 6.   8. ]\n",
            " [ 9.   4. ]\n",
            " [ 1.   1.6]\n",
            " [ 9.  10. ]]\n"
          ]
        }
      ]
    },
    {
      "cell_type": "code",
      "source": [
        "from sklearn.cluster import KMeans\n",
        "from sklearn.preprocessing import StandardScaler\n",
        "import pandas as pd\n",
        "\n",
        "# Example DataFrame\n",
        "data = pd.DataFrame({\n",
        "    'TotalSpend': [100, 200, 150],\n",
        "    'NumberOfTransactions': [10, 15, 8],\n",
        "    'AverageTransactionValue': [10, 14, 18]\n",
        "})\n",
        "\n",
        "# Scaling features\n",
        "scaler = StandardScaler()\n",
        "scaled_features = scaler.fit_transform(data[['TotalSpend', 'NumberOfTransactions', 'AverageTransactionValue']])\n",
        "\n",
        "# Dynamically determine optimal_k\n",
        "optimal_k = min(4, len(scaled_features))\n",
        "kmeans = KMeans(n_clusters=optimal_k, random_state=42)\n",
        "data['Cluster'] = kmeans.fit_predict(scaled_features)\n",
        "\n",
        "print(data)"
      ],
      "metadata": {
        "colab": {
          "base_uri": "https://localhost:8080/"
        },
        "id": "sFHIf6QGggn5",
        "outputId": "426b9db9-696b-4acf-8489-eed99ea4b0b3"
      },
      "execution_count": null,
      "outputs": [
        {
          "output_type": "stream",
          "name": "stdout",
          "text": [
            "   TotalSpend  NumberOfTransactions  AverageTransactionValue  Cluster\n",
            "0         100                    10                       10        2\n",
            "1         200                    15                       14        0\n",
            "2         150                     8                       18        1\n"
          ]
        }
      ]
    },
    {
      "cell_type": "code",
      "source": [
        "# Step 6: Visualize the clusters (for 2D or 3D data)\n",
        "plt.figure(figsize=(10, 7))\n",
        "for cluster in range(optimal_k):\n",
        "    cluster_data = data[data['Cluster'] == cluster]\n",
        "    plt.scatter(cluster_data['TotalSpend'], cluster_data['NumberOfTransactions'], label=f'Cluster {cluster}')\n",
        "plt.xlabel('Total Spent')\n",
        "plt.ylabel('Number of Transactions')\n",
        "plt.legend()\n",
        "plt.title('Customer Clusters')\n",
        "plt.show()"
      ],
      "metadata": {
        "colab": {
          "base_uri": "https://localhost:8080/",
          "height": 641
        },
        "id": "4Vbnefj3glfH",
        "outputId": "cf6f69eb-a89d-42be-eb87-cfc7173a34d8"
      },
      "execution_count": null,
      "outputs": [
        {
          "output_type": "display_data",
          "data": {
            "text/plain": [
              "<Figure size 1000x700 with 1 Axes>"
            ],
            "image/png": "[encoded data removed]"
          },
          "metadata": {}
        }
      ]
    },
    {
      "cell_type": "code",
      "source": [],
      "metadata": {
        "id": "oJuWjiBUhnvG"
      },
      "execution_count": null,
      "outputs": []
    }
  ]
}